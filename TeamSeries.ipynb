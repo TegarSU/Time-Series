{
 "cells": [
  {
   "cell_type": "code",
   "execution_count": 28,
   "metadata": {
    "colab": {
     "base_uri": "https://localhost:8080/",
     "height": 224
    },
    "colab_type": "code",
    "id": "V7TtpWh4WLUc",
    "outputId": "b6131b83-72e9-4c85-8efa-88efc10a7dba"
   },
   "outputs": [],
   "source": [
    "import pandas as pd\n",
    "import tensorflow\n",
    "from tensorflow.python.keras.models import *\n",
    "from tensorflow.python.keras.layers import *\n",
    "import math\n",
    "import numpy as np\n",
    "from numpy import linalg as LA\n",
    "from sklearn.metrics import mean_squared_error"
   ]
  },
  {
   "cell_type": "code",
   "execution_count": 29,
   "metadata": {},
   "outputs": [
    {
     "data": {
      "text/html": [
       "<div>\n",
       "<style scoped>\n",
       "    .dataframe tbody tr th:only-of-type {\n",
       "        vertical-align: middle;\n",
       "    }\n",
       "\n",
       "    .dataframe tbody tr th {\n",
       "        vertical-align: top;\n",
       "    }\n",
       "\n",
       "    .dataframe thead th {\n",
       "        text-align: right;\n",
       "    }\n",
       "</style>\n",
       "<table border=\"1\" class=\"dataframe\">\n",
       "  <thead>\n",
       "    <tr style=\"text-align: right;\">\n",
       "      <th></th>\n",
       "      <th>wind_speed_100m</th>\n",
       "      <th>wind_direction_100m</th>\n",
       "      <th>temperature</th>\n",
       "      <th>air_density</th>\n",
       "      <th>pressure</th>\n",
       "      <th>precipitation</th>\n",
       "      <th>wind_gust</th>\n",
       "      <th>radiation</th>\n",
       "      <th>wind_speed</th>\n",
       "      <th>wind_direction</th>\n",
       "    </tr>\n",
       "  </thead>\n",
       "  <tbody>\n",
       "    <tr>\n",
       "      <th>0</th>\n",
       "      <td>13.6</td>\n",
       "      <td>210.3</td>\n",
       "      <td>9.8</td>\n",
       "      <td>1.17</td>\n",
       "      <td>952.2</td>\n",
       "      <td>0.0</td>\n",
       "      <td>19.4</td>\n",
       "      <td>10.0</td>\n",
       "      <td>7.0</td>\n",
       "      <td>203.7</td>\n",
       "    </tr>\n",
       "    <tr>\n",
       "      <th>1</th>\n",
       "      <td>13.6</td>\n",
       "      <td>210.0</td>\n",
       "      <td>9.8</td>\n",
       "      <td>1.17</td>\n",
       "      <td>951.6</td>\n",
       "      <td>0.0</td>\n",
       "      <td>19.6</td>\n",
       "      <td>16.8</td>\n",
       "      <td>7.0</td>\n",
       "      <td>204.0</td>\n",
       "    </tr>\n",
       "    <tr>\n",
       "      <th>2</th>\n",
       "      <td>13.6</td>\n",
       "      <td>209.8</td>\n",
       "      <td>9.8</td>\n",
       "      <td>1.17</td>\n",
       "      <td>951.1</td>\n",
       "      <td>0.0</td>\n",
       "      <td>19.9</td>\n",
       "      <td>19.9</td>\n",
       "      <td>7.0</td>\n",
       "      <td>204.3</td>\n",
       "    </tr>\n",
       "    <tr>\n",
       "      <th>3</th>\n",
       "      <td>13.6</td>\n",
       "      <td>209.6</td>\n",
       "      <td>9.8</td>\n",
       "      <td>1.17</td>\n",
       "      <td>950.5</td>\n",
       "      <td>0.0</td>\n",
       "      <td>20.1</td>\n",
       "      <td>20.0</td>\n",
       "      <td>7.1</td>\n",
       "      <td>204.6</td>\n",
       "    </tr>\n",
       "    <tr>\n",
       "      <th>4</th>\n",
       "      <td>13.8</td>\n",
       "      <td>218.2</td>\n",
       "      <td>9.9</td>\n",
       "      <td>1.17</td>\n",
       "      <td>950.7</td>\n",
       "      <td>0.0</td>\n",
       "      <td>19.0</td>\n",
       "      <td>17.9</td>\n",
       "      <td>7.1</td>\n",
       "      <td>212.6</td>\n",
       "    </tr>\n",
       "  </tbody>\n",
       "</table>\n",
       "</div>"
      ],
      "text/plain": [
       "   wind_speed_100m  wind_direction_100m  temperature  air_density  pressure  \\\n",
       "0             13.6                210.3          9.8         1.17     952.2   \n",
       "1             13.6                210.0          9.8         1.17     951.6   \n",
       "2             13.6                209.8          9.8         1.17     951.1   \n",
       "3             13.6                209.6          9.8         1.17     950.5   \n",
       "4             13.8                218.2          9.9         1.17     950.7   \n",
       "\n",
       "   precipitation  wind_gust  radiation  wind_speed  wind_direction  \n",
       "0            0.0       19.4       10.0         7.0           203.7  \n",
       "1            0.0       19.6       16.8         7.0           204.0  \n",
       "2            0.0       19.9       19.9         7.0           204.3  \n",
       "3            0.0       20.1       20.0         7.1           204.6  \n",
       "4            0.0       19.0       17.9         7.1           212.6  "
      ]
     },
     "execution_count": 29,
     "metadata": {},
     "output_type": "execute_result"
    }
   ],
   "source": [
    "# url = 'https://raw.githubusercontent.com/ariya01/Kelas-DeepLearning-TimeSeries/master/historical_weather.csv'\n",
    "df = pd.read_csv(\"historical_weather.csv\") # Load DATASET\n",
    "df =df.loc[df[\"point\"]==1] # Load Point 1\n",
    "df = df.drop(['point','prediction_date'], axis=1) # Drop Column\n",
    "trainrow=df.shape[0]*80/100 #Split\n",
    "train = df[:int(trainrow)] \n",
    "train.head()"
   ]
  },
  {
   "cell_type": "code",
   "execution_count": 5,
   "metadata": {
    "colab": {
     "base_uri": "https://localhost:8080/",
     "height": 224
    },
    "colab_type": "code",
    "id": "G1-8KtnGblJa",
    "outputId": "33e2a40e-5ad8-47e1-9798-40e23fffee09"
   },
   "outputs": [
    {
     "data": {
      "text/html": [
       "<div>\n",
       "<style scoped>\n",
       "    .dataframe tbody tr th:only-of-type {\n",
       "        vertical-align: middle;\n",
       "    }\n",
       "\n",
       "    .dataframe tbody tr th {\n",
       "        vertical-align: top;\n",
       "    }\n",
       "\n",
       "    .dataframe thead th {\n",
       "        text-align: right;\n",
       "    }\n",
       "</style>\n",
       "<table border=\"1\" class=\"dataframe\">\n",
       "  <thead>\n",
       "    <tr style=\"text-align: right;\">\n",
       "      <th></th>\n",
       "      <th>wind_speed_100m</th>\n",
       "      <th>wind_direction_100m</th>\n",
       "      <th>temperature</th>\n",
       "      <th>air_density</th>\n",
       "      <th>pressure</th>\n",
       "      <th>precipitation</th>\n",
       "      <th>wind_gust</th>\n",
       "      <th>radiation</th>\n",
       "      <th>wind_speed</th>\n",
       "      <th>wind_direction</th>\n",
       "    </tr>\n",
       "  </thead>\n",
       "  <tbody>\n",
       "    <tr>\n",
       "      <th>12116</th>\n",
       "      <td>8.9</td>\n",
       "      <td>48.8</td>\n",
       "      <td>13.9</td>\n",
       "      <td>1.15</td>\n",
       "      <td>948.3</td>\n",
       "      <td>0.3</td>\n",
       "      <td>10.6</td>\n",
       "      <td>252.6</td>\n",
       "      <td>5.0</td>\n",
       "      <td>46.9</td>\n",
       "    </tr>\n",
       "    <tr>\n",
       "      <th>12117</th>\n",
       "      <td>8.6</td>\n",
       "      <td>47.7</td>\n",
       "      <td>16.4</td>\n",
       "      <td>1.14</td>\n",
       "      <td>948.1</td>\n",
       "      <td>0.3</td>\n",
       "      <td>9.2</td>\n",
       "      <td>410.0</td>\n",
       "      <td>5.4</td>\n",
       "      <td>46.0</td>\n",
       "    </tr>\n",
       "    <tr>\n",
       "      <th>12118</th>\n",
       "      <td>8.1</td>\n",
       "      <td>45.7</td>\n",
       "      <td>17.7</td>\n",
       "      <td>1.14</td>\n",
       "      <td>947.9</td>\n",
       "      <td>0.3</td>\n",
       "      <td>8.3</td>\n",
       "      <td>552.0</td>\n",
       "      <td>5.3</td>\n",
       "      <td>43.5</td>\n",
       "    </tr>\n",
       "    <tr>\n",
       "      <th>12119</th>\n",
       "      <td>7.6</td>\n",
       "      <td>43.6</td>\n",
       "      <td>19.0</td>\n",
       "      <td>1.13</td>\n",
       "      <td>947.6</td>\n",
       "      <td>0.3</td>\n",
       "      <td>7.5</td>\n",
       "      <td>640.6</td>\n",
       "      <td>5.1</td>\n",
       "      <td>41.0</td>\n",
       "    </tr>\n",
       "    <tr>\n",
       "      <th>12120</th>\n",
       "      <td>6.0</td>\n",
       "      <td>30.4</td>\n",
       "      <td>20.6</td>\n",
       "      <td>1.12</td>\n",
       "      <td>946.9</td>\n",
       "      <td>0.0</td>\n",
       "      <td>5.7</td>\n",
       "      <td>625.0</td>\n",
       "      <td>4.2</td>\n",
       "      <td>27.5</td>\n",
       "    </tr>\n",
       "  </tbody>\n",
       "</table>\n",
       "</div>"
      ],
      "text/plain": [
       "       wind_speed_100m  wind_direction_100m  temperature  air_density  \\\n",
       "12116              8.9                 48.8         13.9         1.15   \n",
       "12117              8.6                 47.7         16.4         1.14   \n",
       "12118              8.1                 45.7         17.7         1.14   \n",
       "12119              7.6                 43.6         19.0         1.13   \n",
       "12120              6.0                 30.4         20.6         1.12   \n",
       "\n",
       "       pressure  precipitation  wind_gust  radiation  wind_speed  \\\n",
       "12116     948.3            0.3       10.6      252.6         5.0   \n",
       "12117     948.1            0.3        9.2      410.0         5.4   \n",
       "12118     947.9            0.3        8.3      552.0         5.3   \n",
       "12119     947.6            0.3        7.5      640.6         5.1   \n",
       "12120     946.9            0.0        5.7      625.0         4.2   \n",
       "\n",
       "       wind_direction  \n",
       "12116            46.9  \n",
       "12117            46.0  \n",
       "12118            43.5  \n",
       "12119            41.0  \n",
       "12120            27.5  "
      ]
     },
     "execution_count": 5,
     "metadata": {},
     "output_type": "execute_result"
    }
   ],
   "source": [
    "test = df[-int(df.shape[0]-trainrow):] #Split\n",
    "test.head()"
   ]
  },
  {
   "cell_type": "code",
   "execution_count": 18,
   "metadata": {
    "colab": {
     "base_uri": "https://localhost:8080/",
     "height": 34
    },
    "colab_type": "code",
    "id": "jo0B4gRNYLru",
    "outputId": "2d4d1f8a-5f9c-4d1b-af28-0d96bc721239"
   },
   "outputs": [
    {
     "data": {
      "text/plain": [
       "(12115, 9)"
      ]
     },
     "execution_count": 18,
     "metadata": {},
     "output_type": "execute_result"
    }
   ],
   "source": [
    "y = train['precipitation'] #Class\n",
    "x = train.drop(['precipitation'], axis=1)\n",
    "y = y.values\n",
    "\n",
    "x = x.values\n",
    "x.shape"
   ]
  },
  {
   "cell_type": "code",
   "execution_count": 19,
   "metadata": {
    "colab": {
     "base_uri": "https://localhost:8080/",
     "height": 340
    },
    "colab_type": "code",
    "id": "ezW7oiKMYOAt",
    "outputId": "74e07933-4d1b-41ab-8852-61e451f928af"
   },
   "outputs": [
    {
     "data": {
      "text/plain": [
       "array([[[0.0202986 , 0.00957772, 0.00714166, 0.00900651, 0.0090076 ,\n",
       "         0.0234674 , 0.00030209, 0.01975978, 0.00939319]],\n",
       "\n",
       "       [[0.0202986 , 0.00956406, 0.00714166, 0.00900651, 0.00900193,\n",
       "         0.02370934, 0.00050751, 0.01975978, 0.00940703]],\n",
       "\n",
       "       [[0.0202986 , 0.00955495, 0.00714166, 0.00900651, 0.0089972 ,\n",
       "         0.02407223, 0.00060116, 0.01975978, 0.00942086]],\n",
       "\n",
       "       [[0.0202986 , 0.00954584, 0.00714166, 0.00900651, 0.00899152,\n",
       "         0.02431417, 0.00060418, 0.02004206, 0.0094347 ]],\n",
       "\n",
       "       [[0.02059711, 0.00993751, 0.00721453, 0.00900651, 0.00899341,\n",
       "         0.02298354, 0.00054074, 0.02004206, 0.0098036 ]]])"
      ]
     },
     "execution_count": 19,
     "metadata": {},
     "output_type": "execute_result"
    }
   ],
   "source": [
    "x.shape[1]\n",
    "for i in range(x.shape[1]):\n",
    "    x[:,i] = x[:,i]/LA.norm(x[:,i])\n",
    "\n",
    "x = x.reshape((x.shape[0],1,x.shape[1]))\n",
    "x[:5]"
   ]
  },
  {
   "cell_type": "code",
   "execution_count": 21,
   "metadata": {
    "colab": {
     "base_uri": "https://localhost:8080/",
     "height": 88
    },
    "colab_type": "code",
    "id": "GSsJTgQ_YShH",
    "outputId": "514a6f0d-1b4a-48ae-b51d-812b1137a0cc"
   },
   "outputs": [],
   "source": [
    "model = Sequential()\n",
    "model.add(LSTM(50, input_shape=(x.shape[1], x.shape[2]))) # LSTM Model\n",
    "model.add(Dense(1))\n",
    "model.compile(loss='mae', optimizer='adam')"
   ]
  },
  {
   "cell_type": "code",
   "execution_count": 22,
   "metadata": {
    "colab": {
     "base_uri": "https://localhost:8080/",
     "height": 1805
    },
    "colab_type": "code",
    "id": "u-eEJS3HYeZ8",
    "outputId": "a6bb0334-cd1e-4607-a60f-c24b5813f22e"
   },
   "outputs": [
    {
     "name": "stdout",
     "output_type": "stream",
     "text": [
      "Train on 8117 samples, validate on 3998 samples\n",
      "Epoch 1/50\n",
      " - 3s - loss: 0.1324 - val_loss: 0.1247\n",
      "Epoch 2/50\n",
      " - 1s - loss: 0.1323 - val_loss: 0.1248\n",
      "Epoch 3/50\n",
      " - 1s - loss: 0.1320 - val_loss: 0.1246\n",
      "Epoch 4/50\n",
      " - 1s - loss: 0.1319 - val_loss: 0.1248\n",
      "Epoch 5/50\n",
      " - 1s - loss: 0.1318 - val_loss: 0.1252\n",
      "Epoch 6/50\n",
      " - 1s - loss: 0.1317 - val_loss: 0.1247\n",
      "Epoch 7/50\n",
      " - 1s - loss: 0.1317 - val_loss: 0.1250\n",
      "Epoch 8/50\n",
      " - 1s - loss: 0.1317 - val_loss: 0.1246\n",
      "Epoch 9/50\n",
      " - 1s - loss: 0.1317 - val_loss: 0.1250\n",
      "Epoch 10/50\n",
      " - 1s - loss: 0.1317 - val_loss: 0.1249\n",
      "Epoch 11/50\n",
      " - 1s - loss: 0.1317 - val_loss: 0.1245\n",
      "Epoch 12/50\n",
      " - 1s - loss: 0.1316 - val_loss: 0.1245\n",
      "Epoch 13/50\n",
      " - 1s - loss: 0.1317 - val_loss: 0.1246\n",
      "Epoch 14/50\n",
      " - 1s - loss: 0.1317 - val_loss: 0.1246\n",
      "Epoch 15/50\n",
      " - 1s - loss: 0.1317 - val_loss: 0.1245\n",
      "Epoch 16/50\n",
      " - 1s - loss: 0.1317 - val_loss: 0.1246\n",
      "Epoch 17/50\n",
      " - 1s - loss: 0.1317 - val_loss: 0.1246\n",
      "Epoch 18/50\n",
      " - 1s - loss: 0.1317 - val_loss: 0.1250\n",
      "Epoch 19/50\n",
      " - 1s - loss: 0.1317 - val_loss: 0.1250\n",
      "Epoch 20/50\n",
      " - 1s - loss: 0.1317 - val_loss: 0.1246\n",
      "Epoch 21/50\n",
      " - 1s - loss: 0.1317 - val_loss: 0.1246\n",
      "Epoch 22/50\n",
      " - 1s - loss: 0.1316 - val_loss: 0.1245\n",
      "Epoch 23/50\n",
      " - 1s - loss: 0.1317 - val_loss: 0.1246\n",
      "Epoch 24/50\n",
      " - 1s - loss: 0.1317 - val_loss: 0.1247\n",
      "Epoch 25/50\n",
      " - 1s - loss: 0.1318 - val_loss: 0.1245\n",
      "Epoch 26/50\n",
      " - 1s - loss: 0.1317 - val_loss: 0.1246\n",
      "Epoch 27/50\n",
      " - 1s - loss: 0.1317 - val_loss: 0.1245\n",
      "Epoch 28/50\n",
      " - 1s - loss: 0.1317 - val_loss: 0.1251\n",
      "Epoch 29/50\n",
      " - 1s - loss: 0.1317 - val_loss: 0.1247\n",
      "Epoch 30/50\n",
      " - 1s - loss: 0.1316 - val_loss: 0.1247\n",
      "Epoch 31/50\n",
      " - 1s - loss: 0.1317 - val_loss: 0.1245\n",
      "Epoch 32/50\n",
      " - 1s - loss: 0.1318 - val_loss: 0.1245\n",
      "Epoch 33/50\n",
      " - 1s - loss: 0.1317 - val_loss: 0.1247\n",
      "Epoch 34/50\n",
      " - 1s - loss: 0.1316 - val_loss: 0.1247\n",
      "Epoch 35/50\n",
      " - 1s - loss: 0.1317 - val_loss: 0.1245\n",
      "Epoch 36/50\n",
      " - 1s - loss: 0.1317 - val_loss: 0.1245\n",
      "Epoch 37/50\n",
      " - 1s - loss: 0.1317 - val_loss: 0.1245\n",
      "Epoch 38/50\n",
      " - 1s - loss: 0.1318 - val_loss: 0.1250\n",
      "Epoch 39/50\n",
      " - 1s - loss: 0.1318 - val_loss: 0.1245\n",
      "Epoch 40/50\n",
      " - 1s - loss: 0.1317 - val_loss: 0.1246\n",
      "Epoch 41/50\n",
      " - 1s - loss: 0.1317 - val_loss: 0.1246\n",
      "Epoch 42/50\n",
      " - 1s - loss: 0.1318 - val_loss: 0.1245\n",
      "Epoch 43/50\n",
      " - 1s - loss: 0.1317 - val_loss: 0.1245\n",
      "Epoch 44/50\n",
      " - 1s - loss: 0.1317 - val_loss: 0.1246\n",
      "Epoch 45/50\n",
      " - 1s - loss: 0.1317 - val_loss: 0.1246\n",
      "Epoch 46/50\n",
      " - 1s - loss: 0.1318 - val_loss: 0.1245\n",
      "Epoch 47/50\n",
      " - 1s - loss: 0.1317 - val_loss: 0.1246\n",
      "Epoch 48/50\n",
      " - 1s - loss: 0.1317 - val_loss: 0.1245\n",
      "Epoch 49/50\n",
      " - 1s - loss: 0.1316 - val_loss: 0.1245\n",
      "Epoch 50/50\n",
      " - 1s - loss: 0.1317 - val_loss: 0.1245\n"
     ]
    }
   ],
   "source": [
    "history = model.fit(x, y, epochs=50, batch_size=24, validation_split=0.33, verbose=2, shuffle=False) #Train"
   ]
  },
  {
   "cell_type": "code",
   "execution_count": 23,
   "metadata": {
    "colab": {},
    "colab_type": "code",
    "id": "_hqX_wkQcGlJ"
   },
   "outputs": [],
   "source": [
    "test_y = test['precipitation']\n",
    "test_x = test.drop(['precipitation'], axis=1)\n",
    "test_x = test_x.values\n",
    "test_y = test_y.values\n",
    "\n",
    "for i in range(test_x.shape[1]):\n",
    "    test_x[:,i] = test_x[:,i]/LA.norm(test_x[:,i])\n",
    "\n",
    "test_x = test_x.reshape((test_x.shape[0],1,test_x.shape[1]))"
   ]
  },
  {
   "cell_type": "code",
   "execution_count": 24,
   "metadata": {
    "colab": {
     "base_uri": "https://localhost:8080/",
     "height": 136
    },
    "colab_type": "code",
    "id": "T4bvFoaHfseC",
    "outputId": "3e18b0a5-b1b1-4421-a03e-297c4f39d4ad"
   },
   "outputs": [
    {
     "data": {
      "text/plain": [
       "array([[5.9921167e-05],\n",
       "       [6.3847001e-05],\n",
       "       [6.7091489e-05],\n",
       "       ...,\n",
       "       [7.5923323e-05],\n",
       "       [7.6115291e-05],\n",
       "       [7.6218188e-05]], dtype=float32)"
      ]
     },
     "execution_count": 24,
     "metadata": {},
     "output_type": "execute_result"
    }
   ],
   "source": [
    "yhat = model.predict(test_x)\n",
    "yhat"
   ]
  },
  {
   "cell_type": "code",
   "execution_count": 25,
   "metadata": {
    "colab": {
     "base_uri": "https://localhost:8080/",
     "height": 51
    },
    "colab_type": "code",
    "id": "2qUaDnLBf9dJ",
    "outputId": "bb250c27-f6fc-4f6d-c02d-85ad6c87434c"
   },
   "outputs": [
    {
     "data": {
      "text/plain": [
       "array([5.9921167e-05, 6.3847001e-05, 6.7091489e-05, ..., 7.5923323e-05,\n",
       "       7.6115291e-05, 7.6218188e-05], dtype=float32)"
      ]
     },
     "execution_count": 25,
     "metadata": {},
     "output_type": "execute_result"
    }
   ],
   "source": [
    "inv_yhat = yhat[:,0]\n",
    "inv_yhat"
   ]
  },
  {
   "cell_type": "code",
   "execution_count": 26,
   "metadata": {
    "colab": {
     "base_uri": "https://localhost:8080/",
     "height": 34
    },
    "colab_type": "code",
    "id": "D-vg_OHfgFgW",
    "outputId": "de527d41-d281-480a-c5e8-9705d769bc57"
   },
   "outputs": [
    {
     "data": {
      "text/plain": [
       "array([0.3, 0.3, 0.3, ..., 0. , 0. , 0. ])"
      ]
     },
     "execution_count": 26,
     "metadata": {},
     "output_type": "execute_result"
    }
   ],
   "source": [
    "inv_y = test_y\n",
    "inv_y\n"
   ]
  },
  {
   "cell_type": "code",
   "execution_count": 27,
   "metadata": {
    "colab": {
     "base_uri": "https://localhost:8080/",
     "height": 34
    },
    "colab_type": "code",
    "id": "FPStJsAMgXbN",
    "outputId": "5d8cf11e-ef80-4bf6-b010-005dd089f960"
   },
   "outputs": [
    {
     "name": "stdout",
     "output_type": "stream",
     "text": [
      "Test RMSE: 0.284\n"
     ]
    }
   ],
   "source": [
    "rmse = math.sqrt(mean_squared_error(inv_y, inv_yhat))\n",
    "print('Test RMSE: %.3f' % rmse)"
   ]
  }
 ],
 "metadata": {
  "colab": {
   "name": "TeamSeries.ipynb",
   "provenance": [],
   "version": "0.3.2"
  },
  "kernelspec": {
   "display_name": "Python 3",
   "language": "python",
   "name": "python3"
  },
  "language_info": {
   "codemirror_mode": {
    "name": "ipython",
    "version": 3
   },
   "file_extension": ".py",
   "mimetype": "text/x-python",
   "name": "python",
   "nbconvert_exporter": "python",
   "pygments_lexer": "ipython3",
   "version": "3.6.4"
  }
 },
 "nbformat": 4,
 "nbformat_minor": 1
}
